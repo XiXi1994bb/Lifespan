{
 "cells": [
  {
   "cell_type": "code",
   "execution_count": 1,
   "metadata": {},
   "outputs": [
    {
     "name": "stdout",
     "output_type": "stream",
     "text": [
      "scanpy==1.10.0.dev26+gd7e1302 anndata==0.8.0 umap==0.5.3 numpy==1.23.5 scipy==1.10.0 pandas==1.5.2 scikit-learn==1.2.0 statsmodels==0.13.5 pynndescent==0.5.8\n"
     ]
    }
   ],
   "source": [
    "import scanpy as sc\n",
    "import numpy as np\n",
    "import pandas as pd\n",
    "import sys\n",
    "import matplotlib.pyplot as plt\n",
    "%matplotlib inline\n",
    "import matplotlib\n",
    "import math\n",
    "import seaborn as sns\n",
    "import os\n",
    "# %config IPCompleter.greedy=True\n",
    "%load_ext autoreload\n",
    "%autoreload 2\n",
    "\n",
    "sc.settings.verbosity = 0\n",
    "sc.logging.print_header()\n",
    "sns.set_context(\"paper\")"
   ]
  },
  {
   "cell_type": "code",
   "execution_count": 2,
   "metadata": {},
   "outputs": [],
   "source": [
    "#pip install scanpy\n"
   ]
  },
  {
   "cell_type": "code",
   "execution_count": 7,
   "metadata": {},
   "outputs": [
    {
     "ename": "ModuleNotFoundError",
     "evalue": "No module named 'new_misc_code'",
     "output_type": "error",
     "traceback": [
      "\u001b[0;31m---------------------------------------------------------------------------\u001b[0m",
      "\u001b[0;31mModuleNotFoundError\u001b[0m                       Traceback (most recent call last)",
      "Cell \u001b[0;32mIn[7], line 5\u001b[0m\n\u001b[1;32m      2\u001b[0m warnings\u001b[38;5;241m.\u001b[39msimplefilter( action\u001b[38;5;241m=\u001b[39m\u001b[38;5;124m\"\u001b[39m\u001b[38;5;124mignore\u001b[39m\u001b[38;5;124m\"\u001b[39m, category\u001b[38;5;241m=\u001b[39m\u001b[38;5;167;01mFutureWarning\u001b[39;00m)\n\u001b[1;32m      4\u001b[0m \u001b[38;5;28;01mimport\u001b[39;00m \u001b[38;5;21;01msys\u001b[39;00m\n\u001b[0;32m----> 5\u001b[0m \u001b[38;5;28;01mimport\u001b[39;00m \u001b[38;5;21;01mnew_misc_code\u001b[39;00m \u001b[38;5;28;01mas\u001b[39;00m \u001b[38;5;21;01mnmc\u001b[39;00m \n",
      "\u001b[0;31mModuleNotFoundError\u001b[0m: No module named 'new_misc_code'"
     ]
    }
   ],
   "source": [
    "import warnings\n",
    "warnings.simplefilter( action=\"ignore\", category=FutureWarning)\n",
    "\n",
    "import sys\n",
    "import new_misc_code as nmc "
   ]
  },
  {
   "cell_type": "code",
   "execution_count": 3,
   "metadata": {},
   "outputs": [],
   "source": [
    "# set paths to directories for data and figures\n",
    "fig_path = \"./NK_SCT/out_figs/\""
   ]
  },
  {
   "cell_type": "code",
   "execution_count": 10,
   "metadata": {},
   "outputs": [],
   "source": [
    "#DF=pd.read_csv('./NK_SCT/IntegImmune_VarGeneData_SCT_subset_NK.txt',sep='\\t',index_col=0)\n",
    "#DFT=DF.T\n",
    "#DFT.to_csv('./NK_SCT/IntegImmune_VarGeneData_SCT_subset_NK.T.txt',sep='\\t')\n"
   ]
  },
  {
   "cell_type": "markdown",
   "metadata": {},
   "source": [
    "# Read Data"
   ]
  },
  {
   "cell_type": "code",
   "execution_count": 2,
   "metadata": {},
   "outputs": [],
   "source": [
    "# gene expression （行是细胞，列是基因）\n",
    "adata = sc.read('./NK_SCT/IntegImmune_VarGeneData_SCT_subset_NK.T.txt', cache=True)\n",
    "\n",
    "# cell type annotation\n",
    "cell_types = pd.read_csv('./NK_SCT/IntegImmune_subset_NK.MetaData.txt', sep='\\t',index_col=0)\n",
    "group_types = pd.read_csv('./NK_SCT/IntegImmune_subset_NK.MetaData.txt', sep='\\t',index_col=0)\n",
    "cellgroup_types = pd.read_csv('./NK_SCT/IntegImmune_subset_NK.MetaData.txt', sep='\\t',index_col=0)\n",
    "\n",
    "\n"
   ]
  },
  {
   "cell_type": "code",
   "execution_count": 3,
   "metadata": {},
   "outputs": [],
   "source": [
    "# replace with shorter names\n",
    "acronyms1 = {4: 'NK1', 12: 'NK2', 21: 'proNKT'}\n",
    "acronyms2 = {'B1': 'B1','B2': 'B2','B3': 'B3','B4': 'B4','B5': 'B5','B6': 'B6','B7': 'B7','B8': 'B8'}\n",
    "acronyms3 = {'B1_4': 'B1_4','B2_4': 'B2_4','B3_4': 'B3_4','B4_4': 'B4_4','B5_4': 'B5_4','B6_4': 'B6_4','B7_4': 'B7_4','B8_4': 'B8_4',\n",
    "            'B1_12': 'B1_12','B2_12': 'B2_12','B3_12': 'B3_12','B4_12': 'B4_12','B5_12': 'B5_12','B6_12': 'B6_12','B7_12': 'B7_12','B8_12': 'B8_12',\n",
    "            'B1_21': 'B1_21','B2_21': 'B2_21','B3_21': 'B3_21','B4_21': 'B4_21','B5_21': 'B5_21','B6_21': 'B6_21','B7_21': 'B7_21','B8_21': 'B8_21'}\n",
    "\n",
    "# add this cell type information\n",
    "cell_types = [acronyms1[cell_types.loc[cell_id, 'seurat_clusters']]\n",
    "              if cell_id in cell_types.index else 'no_gate' for cell_id in adata.obs_names]\n",
    "group_types = [acronyms2[group_types.loc[cell_id, 'BioGroup']]\n",
    "              if cell_id in group_types.index else 'no_gate' for cell_id in adata.obs_names]\n",
    "cellgroup_types = [acronyms3[cellgroup_types.loc[cell_id, 'Group']]\n",
    "              if cell_id in cellgroup_types.index else 'no_gate' for cell_id in adata.obs_names]\n",
    "#color_types = [acronyms3[color_types.loc[cell_id, 'color']]\n",
    "              #if cell_id in color_types.index else 'no_gate' for cell_id in adata.obs_names]\n",
    "adata.obs['seurat_clusters'] = cell_types\n",
    "adata.obs['BioGroup'] = group_types\n",
    "adata.obs['Group'] = cellgroup_types"
   ]
  },
  {
   "cell_type": "code",
   "execution_count": 4,
   "metadata": {},
   "outputs": [
    {
     "data": {
      "text/html": [
       "<div>\n",
       "<style scoped>\n",
       "    .dataframe tbody tr th:only-of-type {\n",
       "        vertical-align: middle;\n",
       "    }\n",
       "\n",
       "    .dataframe tbody tr th {\n",
       "        vertical-align: top;\n",
       "    }\n",
       "\n",
       "    .dataframe thead th {\n",
       "        text-align: right;\n",
       "    }\n",
       "</style>\n",
       "<table border=\"1\" class=\"dataframe\">\n",
       "  <thead>\n",
       "    <tr style=\"text-align: right;\">\n",
       "      <th></th>\n",
       "      <th>seurat_clusters</th>\n",
       "      <th>BioGroup</th>\n",
       "      <th>Group</th>\n",
       "    </tr>\n",
       "  </thead>\n",
       "  <tbody>\n",
       "    <tr>\n",
       "      <th>AAACCCAAGACTGAGC-1_1</th>\n",
       "      <td>NK1</td>\n",
       "      <td>B1</td>\n",
       "      <td>B1_4</td>\n",
       "    </tr>\n",
       "    <tr>\n",
       "      <th>AAACCCAAGTATTCCG-1_1</th>\n",
       "      <td>NK1</td>\n",
       "      <td>B1</td>\n",
       "      <td>B1_4</td>\n",
       "    </tr>\n",
       "    <tr>\n",
       "      <th>AAACCCAAGTGATGGC-1_1</th>\n",
       "      <td>proNKT</td>\n",
       "      <td>B1</td>\n",
       "      <td>B1_21</td>\n",
       "    </tr>\n",
       "    <tr>\n",
       "      <th>AAACCCACAGGGAGAG-1_1</th>\n",
       "      <td>NK1</td>\n",
       "      <td>B1</td>\n",
       "      <td>B1_4</td>\n",
       "    </tr>\n",
       "    <tr>\n",
       "      <th>AAACGAAAGCATCTTG-1_1</th>\n",
       "      <td>NK1</td>\n",
       "      <td>B1</td>\n",
       "      <td>B1_4</td>\n",
       "    </tr>\n",
       "    <tr>\n",
       "      <th>...</th>\n",
       "      <td>...</td>\n",
       "      <td>...</td>\n",
       "      <td>...</td>\n",
       "    </tr>\n",
       "    <tr>\n",
       "      <th>TTTCCTCGTTACCTTT-1_16</th>\n",
       "      <td>NK2</td>\n",
       "      <td>B5</td>\n",
       "      <td>B5_12</td>\n",
       "    </tr>\n",
       "    <tr>\n",
       "      <th>TTTCGATCAACAGTGG-1_16</th>\n",
       "      <td>NK1</td>\n",
       "      <td>B5</td>\n",
       "      <td>B5_4</td>\n",
       "    </tr>\n",
       "    <tr>\n",
       "      <th>TTTGACTTCGTCGACG-1_16</th>\n",
       "      <td>NK2</td>\n",
       "      <td>B5</td>\n",
       "      <td>B5_12</td>\n",
       "    </tr>\n",
       "    <tr>\n",
       "      <th>TTTGGAGTCGAAGCAG-1_16</th>\n",
       "      <td>NK1</td>\n",
       "      <td>B5</td>\n",
       "      <td>B5_4</td>\n",
       "    </tr>\n",
       "    <tr>\n",
       "      <th>TTTGGTTCAGGTTCCG-1_16</th>\n",
       "      <td>NK1</td>\n",
       "      <td>B5</td>\n",
       "      <td>B5_4</td>\n",
       "    </tr>\n",
       "  </tbody>\n",
       "</table>\n",
       "<p>13224 rows × 3 columns</p>\n",
       "</div>"
      ],
      "text/plain": [
       "                      seurat_clusters BioGroup  Group\n",
       "AAACCCAAGACTGAGC-1_1              NK1       B1   B1_4\n",
       "AAACCCAAGTATTCCG-1_1              NK1       B1   B1_4\n",
       "AAACCCAAGTGATGGC-1_1           proNKT       B1  B1_21\n",
       "AAACCCACAGGGAGAG-1_1              NK1       B1   B1_4\n",
       "AAACGAAAGCATCTTG-1_1              NK1       B1   B1_4\n",
       "...                               ...      ...    ...\n",
       "TTTCCTCGTTACCTTT-1_16             NK2       B5  B5_12\n",
       "TTTCGATCAACAGTGG-1_16             NK1       B5   B5_4\n",
       "TTTGACTTCGTCGACG-1_16             NK2       B5  B5_12\n",
       "TTTGGAGTCGAAGCAG-1_16             NK1       B5   B5_4\n",
       "TTTGGTTCAGGTTCCG-1_16             NK1       B5   B5_4\n",
       "\n",
       "[13224 rows x 3 columns]"
      ]
     },
     "execution_count": 4,
     "metadata": {},
     "output_type": "execute_result"
    }
   ],
   "source": [
    "adata.obs"
   ]
  },
  {
   "cell_type": "code",
   "execution_count": 6,
   "metadata": {},
   "outputs": [
    {
     "data": {
      "text/plain": [
       "AnnData object with n_obs × n_vars = 13224 × 2972\n",
       "    obs: 'seurat_clusters', 'BioGroup', 'Group'"
      ]
     },
     "execution_count": 6,
     "metadata": {},
     "output_type": "execute_result"
    }
   ],
   "source": [
    "adata"
   ]
  },
  {
   "cell_type": "code",
   "execution_count": 9,
   "metadata": {},
   "outputs": [
    {
     "data": {
      "text/html": [
       "<div>\n",
       "<style scoped>\n",
       "    .dataframe tbody tr th:only-of-type {\n",
       "        vertical-align: middle;\n",
       "    }\n",
       "\n",
       "    .dataframe tbody tr th {\n",
       "        vertical-align: top;\n",
       "    }\n",
       "\n",
       "    .dataframe thead th {\n",
       "        text-align: right;\n",
       "    }\n",
       "</style>\n",
       "<table border=\"1\" class=\"dataframe\">\n",
       "  <thead>\n",
       "    <tr style=\"text-align: right;\">\n",
       "      <th></th>\n",
       "      <th>seurat_clusters</th>\n",
       "      <th>BioGroup</th>\n",
       "      <th>Group</th>\n",
       "      <th>sub_clust</th>\n",
       "    </tr>\n",
       "  </thead>\n",
       "  <tbody>\n",
       "    <tr>\n",
       "      <th>AAACCCAAGACTGAGC-1_1</th>\n",
       "      <td>NK1</td>\n",
       "      <td>B1</td>\n",
       "      <td>B1_4</td>\n",
       "      <td>NK1</td>\n",
       "    </tr>\n",
       "    <tr>\n",
       "      <th>AAACCCAAGTATTCCG-1_1</th>\n",
       "      <td>NK1</td>\n",
       "      <td>B1</td>\n",
       "      <td>B1_4</td>\n",
       "      <td>NK1</td>\n",
       "    </tr>\n",
       "    <tr>\n",
       "      <th>AAACCCAAGTGATGGC-1_1</th>\n",
       "      <td>proNKT</td>\n",
       "      <td>B1</td>\n",
       "      <td>B1_21</td>\n",
       "      <td>proNKT</td>\n",
       "    </tr>\n",
       "    <tr>\n",
       "      <th>AAACCCACAGGGAGAG-1_1</th>\n",
       "      <td>NK1</td>\n",
       "      <td>B1</td>\n",
       "      <td>B1_4</td>\n",
       "      <td>NK1</td>\n",
       "    </tr>\n",
       "    <tr>\n",
       "      <th>AAACGAAAGCATCTTG-1_1</th>\n",
       "      <td>NK1</td>\n",
       "      <td>B1</td>\n",
       "      <td>B1_4</td>\n",
       "      <td>NK1</td>\n",
       "    </tr>\n",
       "    <tr>\n",
       "      <th>...</th>\n",
       "      <td>...</td>\n",
       "      <td>...</td>\n",
       "      <td>...</td>\n",
       "      <td>...</td>\n",
       "    </tr>\n",
       "    <tr>\n",
       "      <th>TTTCCTCGTTACCTTT-1_16</th>\n",
       "      <td>NK2</td>\n",
       "      <td>B5</td>\n",
       "      <td>B5_12</td>\n",
       "      <td>NK2</td>\n",
       "    </tr>\n",
       "    <tr>\n",
       "      <th>TTTCGATCAACAGTGG-1_16</th>\n",
       "      <td>NK1</td>\n",
       "      <td>B5</td>\n",
       "      <td>B5_4</td>\n",
       "      <td>NK1</td>\n",
       "    </tr>\n",
       "    <tr>\n",
       "      <th>TTTGACTTCGTCGACG-1_16</th>\n",
       "      <td>NK2</td>\n",
       "      <td>B5</td>\n",
       "      <td>B5_12</td>\n",
       "      <td>NK2</td>\n",
       "    </tr>\n",
       "    <tr>\n",
       "      <th>TTTGGAGTCGAAGCAG-1_16</th>\n",
       "      <td>NK1</td>\n",
       "      <td>B5</td>\n",
       "      <td>B5_4</td>\n",
       "      <td>NK1</td>\n",
       "    </tr>\n",
       "    <tr>\n",
       "      <th>TTTGGTTCAGGTTCCG-1_16</th>\n",
       "      <td>NK1</td>\n",
       "      <td>B5</td>\n",
       "      <td>B5_4</td>\n",
       "      <td>NK1</td>\n",
       "    </tr>\n",
       "  </tbody>\n",
       "</table>\n",
       "<p>13224 rows × 4 columns</p>\n",
       "</div>"
      ],
      "text/plain": [
       "                      seurat_clusters BioGroup  Group sub_clust\n",
       "AAACCCAAGACTGAGC-1_1              NK1       B1   B1_4       NK1\n",
       "AAACCCAAGTATTCCG-1_1              NK1       B1   B1_4       NK1\n",
       "AAACCCAAGTGATGGC-1_1           proNKT       B1  B1_21    proNKT\n",
       "AAACCCACAGGGAGAG-1_1              NK1       B1   B1_4       NK1\n",
       "AAACGAAAGCATCTTG-1_1              NK1       B1   B1_4       NK1\n",
       "...                               ...      ...    ...       ...\n",
       "TTTCCTCGTTACCTTT-1_16             NK2       B5  B5_12       NK2\n",
       "TTTCGATCAACAGTGG-1_16             NK1       B5   B5_4       NK1\n",
       "TTTGACTTCGTCGACG-1_16             NK2       B5  B5_12       NK2\n",
       "TTTGGAGTCGAAGCAG-1_16             NK1       B5   B5_4       NK1\n",
       "TTTGGTTCAGGTTCCG-1_16             NK1       B5   B5_4       NK1\n",
       "\n",
       "[13224 rows x 4 columns]"
      ]
     },
     "execution_count": 9,
     "metadata": {},
     "output_type": "execute_result"
    }
   ],
   "source": [
    "mat_order=['NK1', 'NK2', 'proNKT']\n",
    "age_order=['B1', 'B2', 'B3', 'B4', 'B5', 'B6', 'B7', 'B8']\n",
    "adata.obs[\"sub_clust\"] = adata.obs['seurat_clusters'].astype(str)\n",
    "adata.obs\n",
    "#dev_trajs = [ii for ii in adata.obs_keys() if ii.split('_dev')[0] in mat_order]"
   ]
  },
  {
   "cell_type": "markdown",
   "metadata": {},
   "source": [
    "# Nearest Neighbors"
   ]
  },
  {
   "cell_type": "code",
   "execution_count": 7,
   "metadata": {},
   "outputs": [],
   "source": [
    "nn = 25\n",
    "# high_adata = adata[:,adata.var.highly_variable.values]\n",
    "# GABA neighbors\n",
    "sc.pp.neighbors( adata, n_neighbors=nn, n_pcs=303, random_state=2)\n",
    "# whole tissue neighbors\n",
    "#sc.pp.neighbors( wt_adata, n_neighbors=nn, n_pcs=365, random_state=2)"
   ]
  },
  {
   "cell_type": "markdown",
   "metadata": {},
   "source": [
    "# Proportion of adult neighbors at each age"
   ]
  },
  {
   "cell_type": "code",
   "execution_count": 10,
   "metadata": {},
   "outputs": [],
   "source": [
    "# function to approx normalize adult nuclei for testing purposes only\n",
    "def get_rand_ref_mk( ref_mk, threshold=50):\n",
    "    true_cts = sum( ref_mk)\n",
    "    rand_ref_mk = ref_mk.copy()\n",
    "    while true_cts>threshold:\n",
    "        for itr, rr in enumerate(rand_ref_mk):\n",
    "            if (rr==True) and (np.random.choice( [True,False], p=[0.25,0.75])):\n",
    "                rr = False\n",
    "            rand_ref_mk[itr] = rr \n",
    "        true_cts = sum( rand_ref_mk)\n",
    "    return( rand_ref_mk)"
   ]
  },
  {
   "cell_type": "code",
   "execution_count": 13,
   "metadata": {},
   "outputs": [
    {
     "data": {
      "text/plain": [
       "['seurat_clusters', 'BioGroup', 'Group', 'sub_clust']"
      ]
     },
     "execution_count": 13,
     "metadata": {},
     "output_type": "execute_result"
    }
   ],
   "source": [
    "adata.obs_keys() "
   ]
  },
  {
   "cell_type": "code",
   "execution_count": 14,
   "metadata": {},
   "outputs": [],
   "source": [
    "dev_trajs = ['NK1', 'NK2', 'proNKT']"
   ]
  },
  {
   "cell_type": "code",
   "execution_count": 47,
   "metadata": {},
   "outputs": [],
   "source": [
    "tot_nn_df = pd.DataFrame( [], columns=age_order, dtype=int)\n",
    "\n",
    "wt_df = adata.obs.copy()\n",
    "# in_df = adata.obs.copy()\n",
    "in_df = adata.obs.loc[adata.obs.index].copy()\n",
    "\n",
    "for dev_itr in dev_trajs[:]:\n",
    "    # common label for cluster\n",
    "    mat_id = dev_itr.split('_dev')[0]\n",
    "    # get cell type of cluster to match to correct anndata object\n",
    "    cell_type = wt_df.loc[wt_df['sub_clust']==mat_id,'sub_clust'].values[0]\n",
    "\n",
    "    dev_adata = adata[adata.obs['seurat_clusters']==dev_itr]\n",
    "    \n",
    "    \n",
    "    dev_adj = dev_adata.obsp['distances'].copy()\n",
    "    ref_mk = (dev_adata.obs['BioGroup']=='B8').values\n",
    "\n",
    "    \n",
    "    # check for small adult populations\n",
    "    if sum(ref_mk)<30:\n",
    "        print( mat_id, \"Does NOT contain enough adult nuclei\")\n",
    "        continue\n",
    "        \n",
    "#     ################################################\n",
    "#     ################################################\n",
    "#     # used to control for number of adult nucs in each traj, used to look for bias in sample size\n",
    "#     ref_mk = get_rand_ref_mk( ref_mk, threshold=30)\n",
    "#     ################################################\n",
    "#     ################################################\n",
    "    \n",
    "    # mask adj to only include ref columns \n",
    "    ref_adj = dev_adj[:,ref_mk].copy()\n",
    "    # create bool list for ref NN hits\n",
    "    ref_hit_mk = np.array( [True]*sum(ref_mk))\n",
    "    # get neighbors for nucs at each age\n",
    "    tot = 0\n",
    "    tot_mk = np.array( [False]*sum(ref_mk))\n",
    "    for a_itr in age_order:\n",
    "        ### get NN of age to adult\n",
    "        # row mask adj by age\n",
    "        s_mk = (dev_adata.obs['BioGroup']==a_itr).values\n",
    "        s_adj = ref_adj[s_mk].copy()\n",
    "        ### get NN of adult to age\n",
    "        age_adj = dev_adj[:,s_mk].copy()\n",
    "        ar_adj = age_adj[ref_mk].copy()\n",
    "        ### total hits for age, all connections\n",
    "        nn_hits = (s_adj>0).sum() + (ar_adj>0).sum()\n",
    "        \n",
    "        if nn_hits==0:\n",
    "            tot_nn_df.loc[f\"{mat_id}\",a_itr] = 0\n",
    "        else:\n",
    "            tot_nn_df.loc[f\"{mat_id}\",a_itr] = nn_hits / (sum(s_mk) * sum(ref_mk))\n",
    "#     print( mat_id)        "
   ]
  },
  {
   "cell_type": "code",
   "execution_count": 48,
   "metadata": {},
   "outputs": [
    {
     "data": {
      "text/html": [
       "<div>\n",
       "<style scoped>\n",
       "    .dataframe tbody tr th:only-of-type {\n",
       "        vertical-align: middle;\n",
       "    }\n",
       "\n",
       "    .dataframe tbody tr th {\n",
       "        vertical-align: top;\n",
       "    }\n",
       "\n",
       "    .dataframe thead th {\n",
       "        text-align: right;\n",
       "    }\n",
       "</style>\n",
       "<table border=\"1\" class=\"dataframe\">\n",
       "  <thead>\n",
       "    <tr style=\"text-align: right;\">\n",
       "      <th></th>\n",
       "      <th>B1</th>\n",
       "      <th>B2</th>\n",
       "      <th>B3</th>\n",
       "      <th>B4</th>\n",
       "      <th>B5</th>\n",
       "      <th>B6</th>\n",
       "      <th>B7</th>\n",
       "      <th>B8</th>\n",
       "    </tr>\n",
       "  </thead>\n",
       "  <tbody>\n",
       "    <tr>\n",
       "      <th>NK1</th>\n",
       "      <td>0.000396</td>\n",
       "      <td>0.000885</td>\n",
       "      <td>0.000509</td>\n",
       "      <td>0.001804</td>\n",
       "      <td>0.002690</td>\n",
       "      <td>0.001664</td>\n",
       "      <td>0.012514</td>\n",
       "      <td>0.027449</td>\n",
       "    </tr>\n",
       "    <tr>\n",
       "      <th>NK2</th>\n",
       "      <td>0.000000</td>\n",
       "      <td>0.000255</td>\n",
       "      <td>0.000375</td>\n",
       "      <td>0.002151</td>\n",
       "      <td>0.004748</td>\n",
       "      <td>0.002938</td>\n",
       "      <td>0.017280</td>\n",
       "      <td>0.069467</td>\n",
       "    </tr>\n",
       "  </tbody>\n",
       "</table>\n",
       "</div>"
      ],
      "text/plain": [
       "           B1        B2        B3        B4        B5        B6        B7  \\\n",
       "NK1  0.000396  0.000885  0.000509  0.001804  0.002690  0.001664  0.012514   \n",
       "NK2  0.000000  0.000255  0.000375  0.002151  0.004748  0.002938  0.017280   \n",
       "\n",
       "           B8  \n",
       "NK1  0.027449  \n",
       "NK2  0.069467  "
      ]
     },
     "execution_count": 48,
     "metadata": {},
     "output_type": "execute_result"
    }
   ],
   "source": [
    "tot_nn_df"
   ]
  },
  {
   "cell_type": "code",
   "execution_count": 43,
   "metadata": {},
   "outputs": [
    {
     "data": {
      "text/html": [
       "<div>\n",
       "<style scoped>\n",
       "    .dataframe tbody tr th:only-of-type {\n",
       "        vertical-align: middle;\n",
       "    }\n",
       "\n",
       "    .dataframe tbody tr th {\n",
       "        vertical-align: top;\n",
       "    }\n",
       "\n",
       "    .dataframe thead th {\n",
       "        text-align: right;\n",
       "    }\n",
       "</style>\n",
       "<table border=\"1\" class=\"dataframe\">\n",
       "  <thead>\n",
       "    <tr style=\"text-align: right;\">\n",
       "      <th></th>\n",
       "      <th>B1</th>\n",
       "      <th>B2</th>\n",
       "      <th>B3</th>\n",
       "      <th>B4</th>\n",
       "      <th>B5</th>\n",
       "      <th>B6</th>\n",
       "      <th>B7</th>\n",
       "      <th>B8</th>\n",
       "    </tr>\n",
       "  </thead>\n",
       "  <tbody>\n",
       "    <tr>\n",
       "      <th>NK1</th>\n",
       "      <td>0.000396</td>\n",
       "      <td>0.000885</td>\n",
       "      <td>0.000509</td>\n",
       "      <td>0.001804</td>\n",
       "      <td>0.002690</td>\n",
       "      <td>0.001664</td>\n",
       "      <td>0.012514</td>\n",
       "      <td>0.027449</td>\n",
       "    </tr>\n",
       "    <tr>\n",
       "      <th>NK2</th>\n",
       "      <td>0.000000</td>\n",
       "      <td>0.000255</td>\n",
       "      <td>0.000375</td>\n",
       "      <td>0.002151</td>\n",
       "      <td>0.004748</td>\n",
       "      <td>0.002938</td>\n",
       "      <td>0.017280</td>\n",
       "      <td>0.069467</td>\n",
       "    </tr>\n",
       "    <tr>\n",
       "      <th>proNKT</th>\n",
       "      <td>0.013441</td>\n",
       "      <td>0.021580</td>\n",
       "      <td>0.100262</td>\n",
       "      <td>0.088906</td>\n",
       "      <td>0.112903</td>\n",
       "      <td>0.101224</td>\n",
       "      <td>0.160050</td>\n",
       "      <td>0.178980</td>\n",
       "    </tr>\n",
       "  </tbody>\n",
       "</table>\n",
       "</div>"
      ],
      "text/plain": [
       "              B1        B2        B3        B4        B5        B6        B7  \\\n",
       "NK1     0.000396  0.000885  0.000509  0.001804  0.002690  0.001664  0.012514   \n",
       "NK2     0.000000  0.000255  0.000375  0.002151  0.004748  0.002938  0.017280   \n",
       "proNKT  0.013441  0.021580  0.100262  0.088906  0.112903  0.101224  0.160050   \n",
       "\n",
       "              B8  \n",
       "NK1     0.027449  \n",
       "NK2     0.069467  \n",
       "proNKT  0.178980  "
      ]
     },
     "execution_count": 43,
     "metadata": {},
     "output_type": "execute_result"
    }
   ],
   "source": [
    "tot_nn_df"
   ]
  },
  {
   "cell_type": "markdown",
   "metadata": {},
   "source": [
    "# Cumulative Sum of proportion of adult neighbors at each age"
   ]
  },
  {
   "cell_type": "code",
   "execution_count": 44,
   "metadata": {},
   "outputs": [],
   "source": [
    "plot_mat_order = np.array( mat_order)[np.in1d( mat_order, tot_nn_df.index)]\n",
    "#color_dict = adata.uns['major_clust_colors_dict']"
   ]
  },
  {
   "cell_type": "code",
   "execution_count": 45,
   "metadata": {},
   "outputs": [
    {
     "data": {
      "image/png": "[encoded data removed]",
      "text/plain": [
       "<Figure size 500x300 with 4 Axes>"
      ]
     },
     "metadata": {
      "image/png": {
       "height": 322,
       "width": 512
      }
     },
     "output_type": "display_data"
    }
   ],
   "source": [
    "sc.settings.set_figure_params( dpi=200, fontsize=6)\n",
    "# col_cc = [wt_adata.uns['stage_colors_dict'][ii] for ii in wt_adta.uns['stage_order']]\n",
    "#row_cc = [color_dict[wt_df.loc[wt_df['sub_clust']==ii,'major_clust'].values[0]] for ii in plot_mat_order[:]]\n",
    "\n",
    "g = sns.clustermap( np.cumsum( tot_nn_df.loc[plot_mat_order[:]], axis=1), cmap='viridis', linewidths=0.0, linecolor=\"grey\", figsize=(2.5,1.5), \n",
    "                   row_cluster=False, col_cluster=False, standard_scale=0)#, col_colors=col_cc)\n",
    "fig = g.fig\n",
    "#fig.savefig( f\"{fig_path}Nearest-Neighbor_Maturation.svg\", format='svg', bbox_inches='tight')"
   ]
  },
  {
   "cell_type": "code",
   "execution_count": null,
   "metadata": {},
   "outputs": [],
   "source": []
  },
  {
   "cell_type": "code",
   "execution_count": 21,
   "metadata": {},
   "outputs": [
    {
     "data": {
      "text/plain": [
       "['B1', 'B5', 'B6', 'B7', 'B8', 'B2', 'B3', 'B4']"
      ]
     },
     "execution_count": 21,
     "metadata": {},
     "output_type": "execute_result"
    }
   ],
   "source": [
    "age_order"
   ]
  },
  {
   "cell_type": "code",
   "execution_count": 18,
   "metadata": {},
   "outputs": [
    {
     "data": {
      "text/plain": [
       "OverloadedDict, wrapping:\n",
       "\tOrderedDict([('neighbors', {'connectivities_key': 'connectivities', 'distances_key': 'distances', 'params': {'n_neighbors': 25, 'method': 'umap', 'random_state': 2, 'metric': 'euclidean', 'n_pcs': 303}})])\n",
       "With overloaded keys:\n",
       "\t['neighbors']."
      ]
     },
     "execution_count": 18,
     "metadata": {},
     "output_type": "execute_result"
    }
   ],
   "source": [
    "adata.uns"
   ]
  },
  {
   "cell_type": "code",
   "execution_count": null,
   "metadata": {},
   "outputs": [],
   "source": []
  },
  {
   "cell_type": "code",
   "execution_count": null,
   "metadata": {},
   "outputs": [],
   "source": []
  },
  {
   "cell_type": "code",
   "execution_count": 8,
   "metadata": {},
   "outputs": [
    {
     "data": {
      "text/html": [
       "<div>\n",
       "<style scoped>\n",
       "    .dataframe tbody tr th:only-of-type {\n",
       "        vertical-align: middle;\n",
       "    }\n",
       "\n",
       "    .dataframe tbody tr th {\n",
       "        vertical-align: top;\n",
       "    }\n",
       "\n",
       "    .dataframe thead th {\n",
       "        text-align: right;\n",
       "    }\n",
       "</style>\n",
       "<table border=\"1\" class=\"dataframe\">\n",
       "  <thead>\n",
       "    <tr style=\"text-align: right;\">\n",
       "      <th></th>\n",
       "      <th>seurat_clusters</th>\n",
       "      <th>BioGroup</th>\n",
       "      <th>Group</th>\n",
       "    </tr>\n",
       "  </thead>\n",
       "  <tbody>\n",
       "    <tr>\n",
       "      <th>AAACCCAAGACTGAGC-1_1</th>\n",
       "      <td>NK1</td>\n",
       "      <td>B1</td>\n",
       "      <td>B1_4</td>\n",
       "    </tr>\n",
       "    <tr>\n",
       "      <th>AAACCCAAGTATTCCG-1_1</th>\n",
       "      <td>NK1</td>\n",
       "      <td>B1</td>\n",
       "      <td>B1_4</td>\n",
       "    </tr>\n",
       "    <tr>\n",
       "      <th>AAACCCAAGTGATGGC-1_1</th>\n",
       "      <td>proNKT</td>\n",
       "      <td>B1</td>\n",
       "      <td>B1_21</td>\n",
       "    </tr>\n",
       "    <tr>\n",
       "      <th>AAACCCACAGGGAGAG-1_1</th>\n",
       "      <td>NK1</td>\n",
       "      <td>B1</td>\n",
       "      <td>B1_4</td>\n",
       "    </tr>\n",
       "    <tr>\n",
       "      <th>AAACGAAAGCATCTTG-1_1</th>\n",
       "      <td>NK1</td>\n",
       "      <td>B1</td>\n",
       "      <td>B1_4</td>\n",
       "    </tr>\n",
       "  </tbody>\n",
       "</table>\n",
       "</div>"
      ],
      "text/plain": [
       "                     seurat_clusters BioGroup  Group\n",
       "AAACCCAAGACTGAGC-1_1             NK1       B1   B1_4\n",
       "AAACCCAAGTATTCCG-1_1             NK1       B1   B1_4\n",
       "AAACCCAAGTGATGGC-1_1          proNKT       B1  B1_21\n",
       "AAACCCACAGGGAGAG-1_1             NK1       B1   B1_4\n",
       "AAACGAAAGCATCTTG-1_1             NK1       B1   B1_4"
      ]
     },
     "execution_count": 8,
     "metadata": {},
     "output_type": "execute_result"
    }
   ],
   "source": [
    "adata.obs.head()"
   ]
  },
  {
   "cell_type": "markdown",
   "metadata": {},
   "source": [
    "# Corr"
   ]
  },
  {
   "cell_type": "code",
   "execution_count": 17,
   "metadata": {},
   "outputs": [
    {
     "data": {
      "image/png": "[encoded data removed]",
      "text/plain": [
       "<Figure size 640x480 with 1 Axes>"
      ]
     },
     "metadata": {},
     "output_type": "display_data"
    },
    {
     "data": {
      "text/plain": [
       "<AxesSubplot: >"
      ]
     },
     "execution_count": 17,
     "metadata": {},
     "output_type": "execute_result"
    }
   ],
   "source": [
    "adata.obs['seurat_clusters2'] = adata.obs['seurat_clusters'].astype('category')\n",
    "sc.tl.dendrogram(adata,groupby='seurat_clusters2')\n",
    "sc.pl.dendrogram(adata,groupby='seurat_clusters2')"
   ]
  },
  {
   "cell_type": "code",
   "execution_count": 6,
   "metadata": {},
   "outputs": [
    {
     "ename": "AttributeError",
     "evalue": "module 'scanpy.plotting' has no attribute 'corrlation_matrix'",
     "output_type": "error",
     "traceback": [
      "\u001b[0;31m---------------------------------------------------------------------------\u001b[0m",
      "\u001b[0;31mAttributeError\u001b[0m                            Traceback (most recent call last)",
      "Cell \u001b[0;32mIn[6], line 4\u001b[0m\n\u001b[1;32m      2\u001b[0m sc\u001b[38;5;241m.\u001b[39mtl\u001b[38;5;241m.\u001b[39mdendrogram(adata, groupby\u001b[38;5;241m=\u001b[39m\u001b[38;5;124m'\u001b[39m\u001b[38;5;124mseurat_clusters2\u001b[39m\u001b[38;5;124m'\u001b[39m)\n\u001b[1;32m      3\u001b[0m \u001b[38;5;66;03m#sc.pl.dendrogram(adata, groupby='seurat_clusters2')\u001b[39;00m\n\u001b[0;32m----> 4\u001b[0m \u001b[43msc\u001b[49m\u001b[38;5;241;43m.\u001b[39;49m\u001b[43mpl\u001b[49m\u001b[38;5;241;43m.\u001b[39;49m\u001b[43mcorrlation_matrix\u001b[49m(adata, \u001b[38;5;124m'\u001b[39m\u001b[38;5;124mseurat_clusters2\u001b[39m\u001b[38;5;124m'\u001b[39m, figsize\u001b[38;5;241m=\u001b[39m(\u001b[38;5;241m5\u001b[39m,\u001b[38;5;241m4\u001b[39m))\n",
      "\u001b[0;31mAttributeError\u001b[0m: module 'scanpy.plotting' has no attribute 'corrlation_matrix'"
     ]
    }
   ],
   "source": [
    "adata.obs['seurat_clusters2'] = adata.obs['seurat_clusters'].astype('category')\n",
    "sc.tl.dendrogram(adata, groupby='seurat_clusters2')\n",
    "#sc.pl.dendrogram(adata, groupby='seurat_clusters2')\n",
    "sc.pl.corrlation_matrix(adata, 'seurat_clusters2', figsize=(5,4))"
   ]
  },
  {
   "cell_type": "code",
   "execution_count": null,
   "metadata": {},
   "outputs": [],
   "source": [
    "sc.pl.correlation_matrix"
   ]
  },
  {
   "cell_type": "code",
   "execution_count": 23,
   "metadata": {},
   "outputs": [],
   "source": [
    "import scanpy as sc"
   ]
  },
  {
   "cell_type": "code",
   "execution_count": 22,
   "metadata": {},
   "outputs": [
    {
     "name": "stdout",
     "output_type": "stream",
     "text": [
      "Collecting git+https://github.com/theislab/scanpy.git\n",
      "  Cloning https://github.com/theislab/scanpy.git to /private/var/folders/rv/vr9n55m9305f6mdwhcyckhdm0000gn/T/pip-req-build-rdnrputn\n",
      "  Running command git clone --filter=blob:none --quiet https://github.com/theislab/scanpy.git /private/var/folders/rv/vr9n55m9305f6mdwhcyckhdm0000gn/T/pip-req-build-rdnrputn\n",
      "  fatal: unable to access 'https://github.com/theislab/scanpy.git/': LibreSSL SSL_read: error:02FFF03C:system library:func(4095):Operation timed out, errno 60\n",
      "  \u001b[1;31merror\u001b[0m: \u001b[1msubprocess-exited-with-error\u001b[0m\n",
      "  \n",
      "  \u001b[31m×\u001b[0m \u001b[32mgit clone --\u001b[0m\u001b[32mfilter\u001b[0m\u001b[32m=\u001b[0m\u001b[32mblob\u001b[0m\u001b[32m:none --quiet \u001b[0m\u001b[4;32mhttps://github.com/theislab/scanpy.git\u001b[0m\u001b[32m \u001b[0m\u001b[32m/private/var/folders/rv/vr9n55m9305f6mdwhcyckhdm0000gn/T/\u001b[0m\u001b[32mpip-req-build-rdnrputn\u001b[0m did not run successfully.\n",
      "  \u001b[31m│\u001b[0m exit code: \u001b[1;36m128\u001b[0m\n",
      "  \u001b[31m╰─>\u001b[0m See above for output.\n",
      "  \n",
      "  \u001b[1;35mnote\u001b[0m: This error originates from a subprocess, and is likely not a problem with pip.\n",
      "\u001b[1;31merror\u001b[0m: \u001b[1msubprocess-exited-with-error\u001b[0m\n",
      "\n",
      "\u001b[31m×\u001b[0m \u001b[32mgit clone --\u001b[0m\u001b[32mfilter\u001b[0m\u001b[32m=\u001b[0m\u001b[32mblob\u001b[0m\u001b[32m:none --quiet \u001b[0m\u001b[4;32mhttps://github.com/theislab/scanpy.git\u001b[0m\u001b[32m \u001b[0m\u001b[32m/private/var/folders/rv/vr9n55m9305f6mdwhcyckhdm0000gn/T/\u001b[0m\u001b[32mpip-req-build-rdnrputn\u001b[0m did not run successfully.\n",
      "\u001b[31m│\u001b[0m exit code: \u001b[1;36m128\u001b[0m\n",
      "\u001b[31m╰─>\u001b[0m See above for output.\n",
      "\n",
      "\u001b[1;35mnote\u001b[0m: This error originates from a subprocess, and is likely not a problem with pip.\n",
      "Note: you may need to restart the kernel to use updated packages.\n"
     ]
    }
   ],
   "source": [
    "pip install git+https://github.com/theislab/scanpy.git"
   ]
  },
  {
   "cell_type": "code",
   "execution_count": null,
   "metadata": {},
   "outputs": [],
   "source": []
  },
  {
   "cell_type": "code",
   "execution_count": null,
   "metadata": {},
   "outputs": [],
   "source": []
  },
  {
   "cell_type": "code",
   "execution_count": null,
   "metadata": {},
   "outputs": [],
   "source": []
  },
  {
   "cell_type": "code",
   "execution_count": null,
   "metadata": {},
   "outputs": [],
   "source": []
  }
 ],
 "metadata": {
  "kernelspec": {
   "display_name": "Python 3 (ipykernel)",
   "language": "python",
   "name": "python3"
  },
  "language_info": {
   "codemirror_mode": {
    "name": "ipython",
    "version": 3
   },
   "file_extension": ".py",
   "mimetype": "text/x-python",
   "name": "python",
   "nbconvert_exporter": "python",
   "pygments_lexer": "ipython3",
   "version": "3.10.8"
  }
 },
 "nbformat": 4,
 "nbformat_minor": 4
}
